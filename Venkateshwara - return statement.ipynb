{
 "cells": [
  {
   "cell_type": "markdown",
   "metadata": {},
   "source": [
    "# Homework Using Return Statement"
   ]
  },
  {
   "cell_type": "markdown",
   "metadata": {},
   "source": [
    "## Name : Venkateshwara\n",
    "## Date: 23.03.2022"
   ]
  },
  {
   "cell_type": "markdown",
   "metadata": {},
   "source": [
    "### Print area and perimeter of square using function"
   ]
  },
  {
   "cell_type": "code",
   "execution_count": 2,
   "metadata": {},
   "outputs": [],
   "source": [
    "def square():\n",
    "    side=int(input(\"side=\"))\n",
    "    print(\"Area forumula:side*side\")\n",
    "    print(\"Area of Square:\",side*side)\n",
    "    print(\"perimeter forumula:4*side\")\n",
    "    print(\"perimeter of square:\",4*side)\n",
    "    return side\n",
    "    "
   ]
  },
  {
   "cell_type": "markdown",
   "metadata": {},
   "source": [
    "#### Output"
   ]
  },
  {
   "cell_type": "code",
   "execution_count": 4,
   "metadata": {},
   "outputs": [
    {
     "name": "stdout",
     "output_type": "stream",
     "text": [
      "side=12\n",
      "Area forumula:side*side\n",
      "Area of Square: 144\n",
      "perimeter forumula:4*side\n",
      "perimeter of square: 48\n"
     ]
    },
    {
     "data": {
      "text/plain": [
       "12"
      ]
     },
     "execution_count": 4,
     "metadata": {},
     "output_type": "execute_result"
    }
   ],
   "source": [
    "square()"
   ]
  },
  {
   "cell_type": "markdown",
   "metadata": {},
   "source": [
    "### Create function to claculate simple linear using formula"
   ]
  },
  {
   "cell_type": "code",
   "execution_count": 9,
   "metadata": {},
   "outputs": [],
   "source": [
    "def linear():\n",
    "    weight=int(input(\"weight:\"))\n",
    "    inputt=int(input(\"input:\"))\n",
    "    biasvalue=int(input(\"bias valuse:\"))\n",
    "    print(\"Formula:Output=weight*Input+Bias value\")\n",
    "    print(\"Simple Linear:\",weight*inputt+biasvalue)\n",
    "    return inputt\n",
    "    \n"
   ]
  },
  {
   "cell_type": "markdown",
   "metadata": {},
   "source": [
    "#### Output"
   ]
  },
  {
   "cell_type": "code",
   "execution_count": 10,
   "metadata": {
    "scrolled": true
   },
   "outputs": [
    {
     "name": "stdout",
     "output_type": "stream",
     "text": [
      "weight:15\n",
      "input:5\n",
      "bias valuse:1\n",
      "Formula:Output=weight*Input+Bias value\n",
      "Simple Linear: 76\n"
     ]
    },
    {
     "data": {
      "text/plain": [
       "5"
      ]
     },
     "execution_count": 10,
     "metadata": {},
     "output_type": "execute_result"
    }
   ],
   "source": [
    "linear()"
   ]
  },
  {
   "cell_type": "markdown",
   "metadata": {},
   "source": [
    "### Print your present age using function"
   ]
  },
  {
   "cell_type": "code",
   "execution_count": 14,
   "metadata": {},
   "outputs": [],
   "source": [
    "def agecal():\n",
    "    birthyear=int(input(\"Birth Year:\"))\n",
    "    presentyear=int(input(\"Present year:\"))\n",
    "    print(\"Formula:Presentyear-Birthyear\")\n",
    "    print(\"Present Age:\",presentyear-birthyear)\n",
    "    return birthyear"
   ]
  },
  {
   "cell_type": "markdown",
   "metadata": {},
   "source": [
    "#### Output"
   ]
  },
  {
   "cell_type": "code",
   "execution_count": 15,
   "metadata": {},
   "outputs": [
    {
     "name": "stdout",
     "output_type": "stream",
     "text": [
      "Birth Year:1988\n",
      "Present year:2022\n",
      "Formula:Presentyear-Birthyear\n",
      "Present Age: 34\n"
     ]
    },
    {
     "data": {
      "text/plain": [
       "1988"
      ]
     },
     "execution_count": 15,
     "metadata": {},
     "output_type": "execute_result"
    }
   ],
   "source": [
    "agecal()"
   ]
  },
  {
   "cell_type": "markdown",
   "metadata": {},
   "source": [
    "### Print Course list using class and function"
   ]
  },
  {
   "cell_type": "code",
   "execution_count": 6,
   "metadata": {},
   "outputs": [],
   "source": [
    "class course():\n",
    "    def AI():\n",
    "        list1=[\"couse List:\",\"Python\",\"Machine Learning\",\"Data Science\",\"Deep Learning\",\"MLP\",\"Time Series Analysis\"]\n",
    "        for temp in list1:\n",
    "             print(temp)\n",
    "        "
   ]
  },
  {
   "cell_type": "markdown",
   "metadata": {},
   "source": [
    "#### Output"
   ]
  },
  {
   "cell_type": "code",
   "execution_count": 8,
   "metadata": {},
   "outputs": [
    {
     "name": "stdout",
     "output_type": "stream",
     "text": [
      "couse List:\n",
      "Python\n",
      "Machine Learning\n",
      "Data Science\n",
      "Deep Learning\n",
      "MLP\n",
      "Time Series Analysis\n"
     ]
    }
   ],
   "source": [
    "course.AI()"
   ]
  },
  {
   "cell_type": "markdown",
   "metadata": {},
   "source": [
    "### Print area and perimeter of rectangle using class and functions"
   ]
  },
  {
   "cell_type": "code",
   "execution_count": 16,
   "metadata": {},
   "outputs": [],
   "source": [
    "class Area():\n",
    "    def areaformula():\n",
    "        length=int(input(\"Length:\"))\n",
    "        breadth=int(input(\"Breadth\"))\n",
    "        print(\"Area formula: Length*Breadth\")\n",
    "        print(\"Area of rectangle:\",length*breadth)\n",
    "        length=int(input(\"Length:\"))\n",
    "        breadth=int(input(\"Breadth\"))\n",
    "        print(\"perimeter formula: 2*(Length+Breadth)\")\n",
    "        print(\"Perimeter of rectangle:\", 2*(length+breadth))\n",
    "        return length"
   ]
  },
  {
   "cell_type": "markdown",
   "metadata": {},
   "source": [
    "#### Output"
   ]
  },
  {
   "cell_type": "code",
   "execution_count": 17,
   "metadata": {},
   "outputs": [
    {
     "name": "stdout",
     "output_type": "stream",
     "text": [
      "Length:12\n",
      "Breadth18\n",
      "Area formula: Length*Breadth\n",
      "Area of rectangle: 216\n",
      "Length:9\n",
      "Breadth15\n",
      "perimeter formula: 2*(Length+Breadth)\n",
      "Perimeter of rectangle: 48\n"
     ]
    },
    {
     "data": {
      "text/plain": [
       "9"
      ]
     },
     "execution_count": 17,
     "metadata": {},
     "output_type": "execute_result"
    }
   ],
   "source": [
    "Area.areaformula()"
   ]
  },
  {
   "cell_type": "markdown",
   "metadata": {},
   "source": [
    "### Create a class to swap two numbers without using temporary variable"
   ]
  },
  {
   "cell_type": "code",
   "execution_count": 19,
   "metadata": {},
   "outputs": [
    {
     "name": "stdout",
     "output_type": "stream",
     "text": [
      "a=67\n",
      "b=45\n",
      "After Swapping\n",
      "a= 45\n",
      "b= 67\n"
     ]
    }
   ],
   "source": [
    "class swap():\n",
    "    a=int(input(\"a=\"))\n",
    "    b=int(input(\"b=\"))\n",
    "    print(\"After Swapping\")\n",
    "    a,b=b,a\n",
    "    print(\"a=\",a)\n",
    "    print(\"b=\",b)\n",
    "    "
   ]
  },
  {
   "cell_type": "markdown",
   "metadata": {},
   "source": [
    "### Create a class to claculate simple Interest"
   ]
  },
  {
   "cell_type": "code",
   "execution_count": 12,
   "metadata": {},
   "outputs": [
    {
     "name": "stdout",
     "output_type": "stream",
     "text": [
      "Principle Amount:5000\n",
      "Rate of Interest:5\n",
      "Time Period:12\n",
      "Simple Interest formula=(P*R*T)/100\n",
      "Simple Interest: 3000.0\n"
     ]
    }
   ],
   "source": [
    "class SI():\n",
    "    p=int(input(\"Principle Amount:\"))\n",
    "    r=int(input(\"Rate of Interest:\"))\n",
    "    t=int(input(\"Time Period:\"))\n",
    "    print(\"Simple Interest formula=(P*R*T)/100\")\n",
    "    print(\"Simple Interest:\",(p*r*t)/100)"
   ]
  },
  {
   "cell_type": "markdown",
   "metadata": {},
   "source": [
    "### Create a class to calculate average marks"
   ]
  },
  {
   "cell_type": "code",
   "execution_count": 13,
   "metadata": {},
   "outputs": [
    {
     "name": "stdout",
     "output_type": "stream",
     "text": [
      "Mark1=78\n",
      "Mark2=89\n",
      "Mark3=90\n",
      "Total: 257\n",
      "Average: 86\n"
     ]
    }
   ],
   "source": [
    "class Mark():\n",
    "    m1=int(input(\"Mark1=\"))\n",
    "    m2=int(input(\"Mark2=\"))\n",
    "    m3=int(input(\"Mark3=\"))\n",
    "    print(\"Total:\",m1+m2+m3)\n",
    "    print(\"Average:\",round((m1+m2+m3)/3))"
   ]
  },
  {
   "cell_type": "code",
   "execution_count": 14,
   "metadata": {},
   "outputs": [
    {
     "name": "stdout",
     "output_type": "stream",
     "text": [
      "Mark1=78\n",
      "Mark2=89\n",
      "Mark3=90\n",
      "Total: 257\n",
      "Average: 85.66666666666667\n"
     ]
    }
   ],
   "source": [
    "class Mark():\n",
    "    m1=int(input(\"Mark1=\"))\n",
    "    m2=int(input(\"Mark2=\"))\n",
    "    m3=int(input(\"Mark3=\"))\n",
    "    print(\"Total:\",m1+m2+m3)\n",
    "    print(\"Average:\",(m1+m2+m3)/3)"
   ]
  },
  {
   "cell_type": "markdown",
   "metadata": {},
   "source": [
    "### Print car model names using class and function"
   ]
  },
  {
   "cell_type": "code",
   "execution_count": 16,
   "metadata": {},
   "outputs": [],
   "source": [
    "class vehicle():\n",
    "    def carname():\n",
    "        list1=[\"Car Model Names:\",\"Maruti Alto\",\"Maruti Dzire\",\"Hyudai Creta\",\"Maruti Swift\"]\n",
    "        for temp in list1:\n",
    "             print(temp)"
   ]
  },
  {
   "cell_type": "markdown",
   "metadata": {},
   "source": [
    "#### Output"
   ]
  },
  {
   "cell_type": "code",
   "execution_count": 17,
   "metadata": {},
   "outputs": [
    {
     "name": "stdout",
     "output_type": "stream",
     "text": [
      "Car Model Names:\n",
      "Maruti Alto\n",
      "Maruti Dzire\n",
      "Hyudai Creta\n",
      "Maruti Swift\n"
     ]
    }
   ],
   "source": [
    "vehicle.carname()"
   ]
  },
  {
   "cell_type": "markdown",
   "metadata": {},
   "source": [
    "### Create class and fuction to check the number is prime number or not"
   ]
  },
  {
   "cell_type": "code",
   "execution_count": 18,
   "metadata": {},
   "outputs": [],
   "source": [
    "class numbers():\n",
    "    def prime():\n",
    "        n=int(input(\"Enter any number:\"))\n",
    "        count=0\n",
    "        for i in range(2,n):\n",
    "            if(n%i==0):            \n",
    "                count+=1\n",
    "        \n",
    "        if(count==0):\n",
    "            print(n,\"is a prime number\")\n",
    "        else:\n",
    "            print(n,\"is a non prime number\")\n"
   ]
  },
  {
   "cell_type": "markdown",
   "metadata": {},
   "source": [
    "#### Output"
   ]
  },
  {
   "cell_type": "code",
   "execution_count": 19,
   "metadata": {},
   "outputs": [
    {
     "name": "stdout",
     "output_type": "stream",
     "text": [
      "Enter any number:37\n",
      "37 is a prime number\n"
     ]
    }
   ],
   "source": [
    "numbers.prime()"
   ]
  }
 ],
 "metadata": {
  "kernelspec": {
   "display_name": "Python 3",
   "language": "python",
   "name": "python3"
  },
  "language_info": {
   "codemirror_mode": {
    "name": "ipython",
    "version": 3
   },
   "file_extension": ".py",
   "mimetype": "text/x-python",
   "name": "python",
   "nbconvert_exporter": "python",
   "pygments_lexer": "ipython3",
   "version": "3.7.4"
  }
 },
 "nbformat": 4,
 "nbformat_minor": 2
}
