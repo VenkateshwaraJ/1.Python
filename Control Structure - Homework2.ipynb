{
 "cells": [
  {
   "cell_type": "markdown",
   "metadata": {},
   "source": [
    "# CONTROL STRUCTURE"
   ]
  },
  {
   "cell_type": "code",
   "execution_count": 5,
   "metadata": {},
   "outputs": [
    {
     "name": "stdout",
     "output_type": "stream",
     "text": [
      "0\n",
      "1\n",
      "2\n",
      "3\n",
      "4\n",
      "5\n"
     ]
    }
   ],
   "source": [
    "for inuputt in range(0,6):\n",
    "    print(inuputt)"
   ]
  },
  {
   "cell_type": "markdown",
   "metadata": {},
   "source": [
    "## Using if..else"
   ]
  },
  {
   "cell_type": "code",
   "execution_count": 6,
   "metadata": {},
   "outputs": [
    {
     "name": "stdout",
     "output_type": "stream",
     "text": [
      "10 is greater than 8\n"
     ]
    }
   ],
   "source": [
    "if(10>8):\n",
    "    print(\"10 is greater than 8\")\n",
    "else:\n",
    "    print(\"10 is lesser than 8\")\n"
   ]
  },
  {
   "cell_type": "markdown",
   "metadata": {},
   "source": [
    "## Using if..elif"
   ]
  },
  {
   "cell_type": "code",
   "execution_count": 1,
   "metadata": {},
   "outputs": [
    {
     "name": "stdout",
     "output_type": "stream",
     "text": [
      "10 is greater than 8\n"
     ]
    }
   ],
   "source": [
    "if(5>=10):\n",
    "    print(\"5 is greater than 10\")\n",
    "elif(8>=10):\n",
    "    print(\"8 is greater than 10\")\n",
    "elif(10<=8):\n",
    "    print(\"10 is lesser than 8\")\n",
    "else:\n",
    "    print(\"10 is greater than 8\")\n"
   ]
  },
  {
   "cell_type": "code",
   "execution_count": 7,
   "metadata": {},
   "outputs": [
    {
     "name": "stdout",
     "output_type": "stream",
     "text": [
      "p\n",
      "y\n",
      "t\n",
      "h\n",
      "o\n",
      "n\n"
     ]
    }
   ],
   "source": [
    "list1=[\"p\",\"y\",\"t\",\"h\",\"o\",\"n\"]\n",
    "for temp in list1:\n",
    "    print(temp)"
   ]
  },
  {
   "cell_type": "code",
   "execution_count": 8,
   "metadata": {},
   "outputs": [
    {
     "name": "stdout",
     "output_type": "stream",
     "text": [
      "Machine Learning\n",
      "Deep Learning\n",
      "NLP\n"
     ]
    }
   ],
   "source": [
    "list1=[\"Machine Learning\",\"Deep Learning\",\"NLP\"]\n",
    "for temp in list1:\n",
    "    print(temp)"
   ]
  },
  {
   "cell_type": "code",
   "execution_count": 13,
   "metadata": {},
   "outputs": [
    {
     "name": "stdout",
     "output_type": "stream",
     "text": [
      "0\n",
      "2\n",
      "4\n",
      "6\n",
      "8\n",
      "10\n",
      "12\n",
      "14\n",
      "18\n"
     ]
    }
   ],
   "source": [
    "list1=[\"0\",\"2\",\"4\",\"6\",\"8\",\"10\",\"12\",\"14\",\"18\"]\n",
    "for temp in list1:\n",
    "    print(temp)\n"
   ]
  },
  {
   "cell_type": "code",
   "execution_count": 64,
   "metadata": {},
   "outputs": [
    {
     "name": "stdout",
     "output_type": "stream",
     "text": [
      "35 is odd\n"
     ]
    }
   ],
   "source": [
    "num=35\n",
    "if(num % 2==1):\n",
    "    print(\"35 is odd\")\n",
    "else:\n",
    "    print(\"35 is not odd number\")"
   ]
  },
  {
   "cell_type": "code",
   "execution_count": 21,
   "metadata": {},
   "outputs": [
    {
     "name": "stdout",
     "output_type": "stream",
     "text": [
      "0\n",
      "2\n",
      "4\n",
      "6\n",
      "8\n",
      "10\n",
      "12\n",
      "14\n",
      "16\n",
      "18\n"
     ]
    }
   ],
   "source": [
    "for inuputt in range(0,19,2):\n",
    "    print(inuputt)"
   ]
  },
  {
   "cell_type": "code",
   "execution_count": 26,
   "metadata": {},
   "outputs": [
    {
     "name": "stdout",
     "output_type": "stream",
     "text": [
      "1\n",
      "3\n",
      "5\n",
      "7\n",
      "9\n",
      "11\n",
      "13\n",
      "15\n",
      "17\n",
      "19\n"
     ]
    }
   ],
   "source": [
    "for inuputt in range(1,20,2):\n",
    "    print(inuputt)"
   ]
  },
  {
   "cell_type": "code",
   "execution_count": 27,
   "metadata": {},
   "outputs": [
    {
     "name": "stdout",
     "output_type": "stream",
     "text": [
      "Machine Learning\n",
      "M\n",
      "c\n",
      "i\n",
      "e\n",
      "L\n",
      "a\n",
      "n\n",
      "n\n"
     ]
    }
   ],
   "source": [
    "list1=[\"Machine Learning\",\"M\",\"c\",\"i\",\"e\",\"L\",\"a\",\"n\",\"n\"]\n",
    "for temp in list1:\n",
    "    print(temp)"
   ]
  },
  {
   "cell_type": "code",
   "execution_count": 34,
   "metadata": {},
   "outputs": [
    {
     "name": "stdout",
     "output_type": "stream",
     "text": [
      "10\n",
      "20\n",
      "30\n",
      "30 is greater\n"
     ]
    }
   ],
   "source": [
    "if(10<=30):\n",
    "    print(\"10\")\n",
    "else:\n",
    "    print(\"30\")\n",
    "if(20<=30):\n",
    "    print(\"20\")\n",
    "else:\n",
    "    print(\"30\")\n",
    "if(30<=30):\n",
    "    print(\"30\")\n",
    "else:\n",
    "    print(\"No\")    \n",
    "if(30>=30):\n",
    "    print(\"30 is greater\")\n",
    "else:\n",
    "    print(\"30 is not greater\")\n"
   ]
  }
 ],
 "metadata": {
  "kernelspec": {
   "display_name": "Python 3",
   "language": "python",
   "name": "python3"
  },
  "language_info": {
   "codemirror_mode": {
    "name": "ipython",
    "version": 3
   },
   "file_extension": ".py",
   "mimetype": "text/x-python",
   "name": "python",
   "nbconvert_exporter": "python",
   "pygments_lexer": "ipython3",
   "version": "3.7.4"
  }
 },
 "nbformat": 4,
 "nbformat_minor": 2
}
