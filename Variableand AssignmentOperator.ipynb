{
 "cells": [
  {
   "cell_type": "code",
   "execution_count": 14,
   "metadata": {},
   "outputs": [
    {
     "name": "stdout",
     "output_type": "stream",
     "text": [
      "The Radius of the Circle: 2\n",
      "The Pi value is : 3.14\n",
      "The area of the circle formula:Pi*radius*radius\n",
      "The Radius of the Circle: 12.56\n"
     ]
    }
   ],
   "source": [
    "radius=2\n",
    "print(\"The Radius of the Circle:\",radius)\n",
    "pi=3.14\n",
    "print(\"The Pi value is :\",pi)\n",
    "print(\"The area of the circle formula:Pi*radius*radius\")\n",
    "circle=pi*radius*radius\n",
    "print(\"The Radius of the Circle:\",circle)"
   ]
  },
  {
   "cell_type": "code",
   "execution_count": null,
   "metadata": {},
   "outputs": [],
   "source": []
  }
 ],
 "metadata": {
  "kernelspec": {
   "display_name": "Python 3",
   "language": "python",
   "name": "python3"
  },
  "language_info": {
   "codemirror_mode": {
    "name": "ipython",
    "version": 3
   },
   "file_extension": ".py",
   "mimetype": "text/x-python",
   "name": "python",
   "nbconvert_exporter": "python",
   "pygments_lexer": "ipython3",
   "version": "3.7.4"
  }
 },
 "nbformat": 4,
 "nbformat_minor": 2
}
